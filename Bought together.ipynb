{
 "cells": [
  {
   "cell_type": "code",
   "execution_count": 1,
   "metadata": {},
   "outputs": [],
   "source": [
    "#Load in the essential libraries\n",
    "import pandas as pd\n",
    "import numpy as np\n",
    "import matplotlib.pyplot as plt\n",
    "from itertools import permutations,combinations\n",
    "from collections import Counter"
   ]
  },
  {
   "cell_type": "code",
   "execution_count": 3,
   "metadata": {},
   "outputs": [],
   "source": [
    "#create a function that finds pairs and list them in a column. Using A and B as a stand in\n",
    "def find_pairs(x):\n",
    "    pairs = pd.DataFrame(list(permutations(x.values,2)),columns=[\"A\",\"B\"])\n",
    "    return pairs"
   ]
  },
  {
   "cell_type": "code",
   "execution_count": 5,
   "metadata": {},
   "outputs": [
    {
     "data": {
      "text/html": [
       "<div>\n",
       "<style scoped>\n",
       "    .dataframe tbody tr th:only-of-type {\n",
       "        vertical-align: middle;\n",
       "    }\n",
       "\n",
       "    .dataframe tbody tr th {\n",
       "        vertical-align: top;\n",
       "    }\n",
       "\n",
       "    .dataframe thead th {\n",
       "        text-align: right;\n",
       "    }\n",
       "</style>\n",
       "<table border=\"1\" class=\"dataframe\">\n",
       "  <thead>\n",
       "    <tr style=\"text-align: right;\">\n",
       "      <th></th>\n",
       "      <th>Order ID</th>\n",
       "      <th>Product</th>\n",
       "      <th>Quantity Ordered</th>\n",
       "      <th>Price Each</th>\n",
       "      <th>Order Date</th>\n",
       "      <th>Purchase Address</th>\n",
       "    </tr>\n",
       "  </thead>\n",
       "  <tbody>\n",
       "    <tr>\n",
       "      <td>0</td>\n",
       "      <td>295665</td>\n",
       "      <td>Tshirts</td>\n",
       "      <td>1</td>\n",
       "      <td>10.99</td>\n",
       "      <td>12/30/19 00:01</td>\n",
       "      <td>136 Church St, New York City, NY 10001</td>\n",
       "    </tr>\n",
       "    <tr>\n",
       "      <td>1</td>\n",
       "      <td>295666</td>\n",
       "      <td>Jeans</td>\n",
       "      <td>1</td>\n",
       "      <td>78.99</td>\n",
       "      <td>12/29/19 07:03</td>\n",
       "      <td>562 2nd St, New York City, NY 10001</td>\n",
       "    </tr>\n",
       "    <tr>\n",
       "      <td>2</td>\n",
       "      <td>295667</td>\n",
       "      <td>Shoes</td>\n",
       "      <td>1</td>\n",
       "      <td>11.95</td>\n",
       "      <td>12-12-2019 18:21</td>\n",
       "      <td>277 Main St, New York City, NY 10001</td>\n",
       "    </tr>\n",
       "    <tr>\n",
       "      <td>3</td>\n",
       "      <td>295668</td>\n",
       "      <td>Sneakers</td>\n",
       "      <td>1</td>\n",
       "      <td>149.99</td>\n",
       "      <td>12/22/19 15:13</td>\n",
       "      <td>410 6th St, San Francisco, CA 94016</td>\n",
       "    </tr>\n",
       "    <tr>\n",
       "      <td>4</td>\n",
       "      <td>295669</td>\n",
       "      <td>Shoes</td>\n",
       "      <td>1</td>\n",
       "      <td>11.95</td>\n",
       "      <td>12/18/19 12:38</td>\n",
       "      <td>43 Hill St, Atlanta, GA 30301</td>\n",
       "    </tr>\n",
       "  </tbody>\n",
       "</table>\n",
       "</div>"
      ],
      "text/plain": [
       "  Order ID   Product Quantity Ordered Price Each        Order Date  \\\n",
       "0   295665   Tshirts                1      10.99    12/30/19 00:01   \n",
       "1   295666     Jeans                1      78.99    12/29/19 07:03   \n",
       "2   295667     Shoes                1      11.95  12-12-2019 18:21   \n",
       "3   295668  Sneakers                1     149.99    12/22/19 15:13   \n",
       "4   295669     Shoes                1      11.95    12/18/19 12:38   \n",
       "\n",
       "                         Purchase Address  \n",
       "0  136 Church St, New York City, NY 10001  \n",
       "1     562 2nd St, New York City, NY 10001  \n",
       "2    277 Main St, New York City, NY 10001  \n",
       "3     410 6th St, San Francisco, CA 94016  \n",
       "4           43 Hill St, Atlanta, GA 30301  "
      ]
     },
     "execution_count": 5,
     "metadata": {},
     "output_type": "execute_result"
    }
   ],
   "source": [
    "#Load in the dataset and check the head of the data\n",
    "dataset=pd.read_csv('Sales_December_2019.csv')\n",
    "dataset.head()"
   ]
  },
  {
   "cell_type": "code",
   "execution_count": 6,
   "metadata": {},
   "outputs": [
    {
     "data": {
      "text/html": [
       "<div>\n",
       "<style scoped>\n",
       "    .dataframe tbody tr th:only-of-type {\n",
       "        vertical-align: middle;\n",
       "    }\n",
       "\n",
       "    .dataframe tbody tr th {\n",
       "        vertical-align: top;\n",
       "    }\n",
       "\n",
       "    .dataframe thead th {\n",
       "        text-align: right;\n",
       "    }\n",
       "</style>\n",
       "<table border=\"1\" class=\"dataframe\">\n",
       "  <thead>\n",
       "    <tr style=\"text-align: right;\">\n",
       "      <th></th>\n",
       "      <th>A</th>\n",
       "      <th>B</th>\n",
       "    </tr>\n",
       "  </thead>\n",
       "  <tbody>\n",
       "    <tr>\n",
       "      <td>0</td>\n",
       "      <td>Suits</td>\n",
       "      <td>Shoes</td>\n",
       "    </tr>\n",
       "    <tr>\n",
       "      <td>1</td>\n",
       "      <td>Suits</td>\n",
       "      <td>Belts</td>\n",
       "    </tr>\n",
       "    <tr>\n",
       "      <td>2</td>\n",
       "      <td>Suits</td>\n",
       "      <td>Socks</td>\n",
       "    </tr>\n",
       "    <tr>\n",
       "      <td>3</td>\n",
       "      <td>Shoes</td>\n",
       "      <td>Suits</td>\n",
       "    </tr>\n",
       "    <tr>\n",
       "      <td>4</td>\n",
       "      <td>Shoes</td>\n",
       "      <td>Belts</td>\n",
       "    </tr>\n",
       "  </tbody>\n",
       "</table>\n",
       "</div>"
      ],
      "text/plain": [
       "       A      B\n",
       "0  Suits  Shoes\n",
       "1  Suits  Belts\n",
       "2  Suits  Socks\n",
       "3  Shoes  Suits\n",
       "4  Shoes  Belts"
      ]
     },
     "execution_count": 6,
     "metadata": {},
     "output_type": "execute_result"
    }
   ],
   "source": [
    "#Group the products by Order ID then apply the function \n",
    "dataset_combo =dataset.groupby('Order ID')['Product'].apply(find_pairs).reset_index(drop=True)\n",
    "dataset_combo.head()"
   ]
  },
  {
   "cell_type": "code",
   "execution_count": 7,
   "metadata": {},
   "outputs": [
    {
     "data": {
      "text/plain": [
       "A        B           \n",
       "Belts    Belts            8\n",
       "         Caps             3\n",
       "         Deo              2\n",
       "         Flip Flops       2\n",
       "         Formal Shoes     6\n",
       "                         ..\n",
       "Watches  Shoes           54\n",
       "         Shorts           1\n",
       "         Socks           23\n",
       "         Thermals         1\n",
       "         Track Pants      1\n",
       "Length: 234, dtype: int64"
      ]
     },
     "execution_count": 7,
     "metadata": {},
     "output_type": "execute_result"
    }
   ],
   "source": [
    "#  Calculate how often each item item_a occurs with the items in item_b\n",
    "dataset_combo2 =dataset_combo.groupby(['A','B']).size()\n",
    "dataset_combo2"
   ]
  },
  {
   "cell_type": "code",
   "execution_count": 8,
   "metadata": {},
   "outputs": [
    {
     "data": {
      "text/html": [
       "<div>\n",
       "<style scoped>\n",
       "    .dataframe tbody tr th:only-of-type {\n",
       "        vertical-align: middle;\n",
       "    }\n",
       "\n",
       "    .dataframe tbody tr th {\n",
       "        vertical-align: top;\n",
       "    }\n",
       "\n",
       "    .dataframe thead th {\n",
       "        text-align: right;\n",
       "    }\n",
       "</style>\n",
       "<table border=\"1\" class=\"dataframe\">\n",
       "  <thead>\n",
       "    <tr style=\"text-align: right;\">\n",
       "      <th></th>\n",
       "      <th>A</th>\n",
       "      <th>B</th>\n",
       "      <th>Size</th>\n",
       "    </tr>\n",
       "  </thead>\n",
       "  <tbody>\n",
       "    <tr>\n",
       "      <td>84</td>\n",
       "      <td>Product</td>\n",
       "      <td>Product</td>\n",
       "      <td>2256</td>\n",
       "    </tr>\n",
       "    <tr>\n",
       "      <td>152</td>\n",
       "      <td>Suits</td>\n",
       "      <td>Shoes</td>\n",
       "      <td>122</td>\n",
       "    </tr>\n",
       "    <tr>\n",
       "      <td>95</td>\n",
       "      <td>Shoes</td>\n",
       "      <td>Suits</td>\n",
       "      <td>122</td>\n",
       "    </tr>\n",
       "    <tr>\n",
       "      <td>181</td>\n",
       "      <td>Thermals</td>\n",
       "      <td>Track Pants</td>\n",
       "      <td>116</td>\n",
       "    </tr>\n",
       "    <tr>\n",
       "      <td>192</td>\n",
       "      <td>Track Pants</td>\n",
       "      <td>Thermals</td>\n",
       "      <td>116</td>\n",
       "    </tr>\n",
       "  </tbody>\n",
       "</table>\n",
       "</div>"
      ],
      "text/plain": [
       "               A            B  Size\n",
       "84       Product      Product  2256\n",
       "152        Suits        Shoes   122\n",
       "95         Shoes        Suits   122\n",
       "181     Thermals  Track Pants   116\n",
       "192  Track Pants     Thermals   116"
      ]
     },
     "execution_count": 8,
     "metadata": {},
     "output_type": "execute_result"
    }
   ],
   "source": [
    "#create a sorted dataframe by the most frequent combinations.\n",
    "dataset =dataset_combo2.reset_index()\n",
    "dataset.columns = ['A','B',\"Size\"]\n",
    "dataset.sort_values(by='Size',ascending =False, inplace =True)\n",
    "dataset.head()"
   ]
  },
  {
   "cell_type": "code",
   "execution_count": 9,
   "metadata": {},
   "outputs": [
    {
     "data": {
      "text/html": [
       "<div>\n",
       "<style scoped>\n",
       "    .dataframe tbody tr th:only-of-type {\n",
       "        vertical-align: middle;\n",
       "    }\n",
       "\n",
       "    .dataframe tbody tr th {\n",
       "        vertical-align: top;\n",
       "    }\n",
       "\n",
       "    .dataframe thead th {\n",
       "        text-align: right;\n",
       "    }\n",
       "</style>\n",
       "<table border=\"1\" class=\"dataframe\">\n",
       "  <thead>\n",
       "    <tr style=\"text-align: right;\">\n",
       "      <th></th>\n",
       "      <th>A</th>\n",
       "      <th>B</th>\n",
       "      <th>Size</th>\n",
       "    </tr>\n",
       "  </thead>\n",
       "  <tbody>\n",
       "    <tr>\n",
       "      <td>152</td>\n",
       "      <td>Suits</td>\n",
       "      <td>Shoes</td>\n",
       "      <td>122</td>\n",
       "    </tr>\n",
       "    <tr>\n",
       "      <td>95</td>\n",
       "      <td>Shoes</td>\n",
       "      <td>Suits</td>\n",
       "      <td>122</td>\n",
       "    </tr>\n",
       "    <tr>\n",
       "      <td>181</td>\n",
       "      <td>Thermals</td>\n",
       "      <td>Track Pants</td>\n",
       "      <td>116</td>\n",
       "    </tr>\n",
       "    <tr>\n",
       "      <td>192</td>\n",
       "      <td>Track Pants</td>\n",
       "      <td>Thermals</td>\n",
       "      <td>116</td>\n",
       "    </tr>\n",
       "    <tr>\n",
       "      <td>191</td>\n",
       "      <td>Track Pants</td>\n",
       "      <td>Socks</td>\n",
       "      <td>67</td>\n",
       "    </tr>\n",
       "  </tbody>\n",
       "</table>\n",
       "</div>"
      ],
      "text/plain": [
       "               A            B  Size\n",
       "152        Suits        Shoes   122\n",
       "95         Shoes        Suits   122\n",
       "181     Thermals  Track Pants   116\n",
       "192  Track Pants     Thermals   116\n",
       "191  Track Pants        Socks    67"
      ]
     },
     "execution_count": 9,
     "metadata": {},
     "output_type": "execute_result"
    }
   ],
   "source": [
    "#Clean the Product row and check the head of the data\n",
    "Cleaned_Dataset = dataset[dataset[\"A\"]!=\"Product\"]\n",
    "Cleaned_Dataset.head()"
   ]
  },
  {
   "cell_type": "code",
   "execution_count": 10,
   "metadata": {},
   "outputs": [
    {
     "data": {
      "text/html": [
       "<div>\n",
       "<style scoped>\n",
       "    .dataframe tbody tr th:only-of-type {\n",
       "        vertical-align: middle;\n",
       "    }\n",
       "\n",
       "    .dataframe tbody tr th {\n",
       "        vertical-align: top;\n",
       "    }\n",
       "\n",
       "    .dataframe thead th {\n",
       "        text-align: right;\n",
       "    }\n",
       "</style>\n",
       "<table border=\"1\" class=\"dataframe\">\n",
       "  <thead>\n",
       "    <tr style=\"text-align: right;\">\n",
       "      <th></th>\n",
       "      <th>Order ID</th>\n",
       "      <th>Group</th>\n",
       "    </tr>\n",
       "  </thead>\n",
       "  <tbody>\n",
       "    <tr>\n",
       "      <td>16</td>\n",
       "      <td>295681</td>\n",
       "      <td>Suits,Shoes,Belts,Socks</td>\n",
       "    </tr>\n",
       "    <tr>\n",
       "      <td>36</td>\n",
       "      <td>295698</td>\n",
       "      <td>Watches,Shoes</td>\n",
       "    </tr>\n",
       "    <tr>\n",
       "      <td>42</td>\n",
       "      <td>295703</td>\n",
       "      <td>Wallets,Belts</td>\n",
       "    </tr>\n",
       "    <tr>\n",
       "      <td>66</td>\n",
       "      <td>295726</td>\n",
       "      <td>Track Pants,Thermals</td>\n",
       "    </tr>\n",
       "    <tr>\n",
       "      <td>76</td>\n",
       "      <td>295735</td>\n",
       "      <td>Track Pants,Shorts,Socks</td>\n",
       "    </tr>\n",
       "  </tbody>\n",
       "</table>\n",
       "</div>"
      ],
      "text/plain": [
       "   Order ID                     Group\n",
       "16   295681   Suits,Shoes,Belts,Socks\n",
       "36   295698             Watches,Shoes\n",
       "42   295703             Wallets,Belts\n",
       "66   295726      Track Pants,Thermals\n",
       "76   295735  Track Pants,Shorts,Socks"
      ]
     },
     "execution_count": 10,
     "metadata": {},
     "output_type": "execute_result"
    }
   ],
   "source": [
    "#Create a combination of groups so that can be used as an alternative to pairing\n",
    "df2=pd.read_csv('Sales_December_2019.csv')\n",
    "df2= df2.dropna()\n",
    "df2 =df2[df2['Order ID'].duplicated(keep=False)]\n",
    "df2['Group'] = df2.groupby('Order ID')['Product'].transform(lambda x:','.join(x))\n",
    "df2 =df2[['Order ID', 'Group']].drop_duplicates()\n",
    "df2.head()"
   ]
  },
  {
   "cell_type": "code",
   "execution_count": 11,
   "metadata": {},
   "outputs": [
    {
     "name": "stdout",
     "output_type": "stream",
     "text": [
      "Counter({('Product', 'Product'): 1128, ('Suits', 'Shoes'): 118, ('Track Pants', 'Thermals'): 113, ('Track Pants', 'Socks'): 66, ('Suits', 'Socks'): 56, ('Watches', 'Shoes'): 53, ('Track Pants', 'Shorts'): 52, ('Suits', 'Belts'): 27, ('Shoes', 'Socks'): 25, ('Watches', 'Socks'): 22, ('Shorts', 'Socks'): 13, ('Shoes', 'Thermals'): 11, ('Thermals', 'Socks'): 11, ('Thermals', 'Wallets'): 11, ('Thermals', 'Shoes'): 11, ('Wallets', 'Thermals'): 10, ('Watches', 'Belts'): 10, ('Belts', 'Socks'): 9, ('Socks', 'Socks'): 9, ('Wallets', 'Wallets'): 9, ('Shoes', 'Belts'): 8, ('Formal Shoes', 'Formal Shoes'): 8, ('Wallets', 'Shorts'): 8, ('Shorts', 'Formal Shoes'): 8, ('Thermals', 'Formal Shoes'): 7, ('Wallets', 'Track Pants'): 7, ('Socks', 'Shoes'): 7, ('Formal Shoes', 'Thermals'): 7, ('Shoes', 'Formal Shoes'): 7, ('Socks', 'Shorts'): 7, ('Thermals', 'Belts'): 6, ('Belts', 'Formal Shoes'): 6, ('Thermals', 'Thermals'): 6, ('Formal Shoes', 'Socks'): 6, ('Wallets', 'Formal Shoes'): 5, ('Socks', 'Wallets'): 5, ('Formal Shoes', 'Shoes'): 5, ('Thermals', 'Shorts'): 5, ('Shorts', 'Shorts'): 5, ('Formal Shoes', 'Shorts'): 5, ('Belts', 'Thermals'): 5, ('Socks', 'Formal Shoes'): 5, ('Deo', 'Wallets'): 5, ('Wallets', 'Belts'): 4, ('Shoes', 'Shorts'): 4, ('Shorts', 'Belts'): 4, ('Deo', 'Socks'): 4, ('Thermals', 'Sneakers'): 4, ('Track Pants', 'Formal Shoes'): 4, ('Belts', 'Belts'): 4, ('Formal Shoes', 'Flip Flops'): 4, ('Sneakers', 'Shorts'): 4, ('Formal Shoes', 'Sneakers'): 4, ('Tshirts', 'Shorts'): 4, ('Socks', 'Caps'): 4, ('Shorts', 'Suits'): 4, ('Shoes', 'Suits'): 4, ('Sneakers', 'Formal Shoes'): 4, ('Formal Shoes', 'Wallets'): 4, ('Suits', 'Wallets'): 4, ('Caps', 'Thermals'): 3, ('Jackets', 'Thermals'): 3, ('Shoes', 'Wallets'): 3, ('Tshirts', 'Thermals'): 3, ('Thermals', 'Track Pants'): 3, ('Thermals', 'Suits'): 3, ('Wallets', 'Shoes'): 3, ('Socks', 'Deo'): 3, ('Sunglasses', 'Socks'): 3, ('Shoes', 'Flip Flops'): 3, ('Jackets', 'Wallets'): 3, ('Jackets', 'Formal Shoes'): 3, ('Wallets', 'Flip Flops'): 3, ('Shorts', 'Wallets'): 3, ('Thermals', 'Flip Flops'): 3, ('Wallets', 'Socks'): 3, ('Formal Shoes', 'Tshirts'): 3, ('Belts', 'Wallets'): 3, ('Shoes', 'Sunglasses'): 2, ('Jackets', 'Jackets'): 2, ('Track Pants', 'Wallets'): 2, ('Thermals', 'Deo'): 2, ('Formal Shoes', 'Jackets'): 2, ('Belts', 'Sneakers'): 2, ('Shoes', 'Sneakers'): 2, ('Deo', 'Formal Shoes'): 2, ('Shoes', 'Deo'): 2, ('Suits', 'Formal Shoes'): 2, ('Sunglasses', 'Shoes'): 2, ('Flip Flops', 'Belts'): 2, ('Caps', 'Shoes'): 2, ('Socks', 'Thermals'): 2, ('Shorts', 'Sneakers'): 2, ('Caps', 'Track Pants'): 2, ('Tshirts', 'Formal Shoes'): 2, ('Suits', 'Caps'): 2, ('Belts', 'Caps'): 2, ('Caps', 'Wallets'): 2, ('Flip Flops', 'Flip Flops'): 2, ('Belts', 'Jackets'): 2, ('Shorts', 'Deo'): 2, ('Deo', 'Deo'): 2, ('Socks', 'Suits'): 2, ('Wallets', 'Deo'): 2, ('Deo', 'Thermals'): 2, ('Shorts', 'Shoes'): 2, ('Shorts', 'Thermals'): 2, ('Tshirts', 'Socks'): 2, ('Thermals', 'Sunglasses'): 2, ('Socks', 'Tshirts'): 2, ('Socks', 'Belts'): 2, ('Shoes', 'Jackets'): 1, ('Sneakers', 'Belts'): 1, ('Tshirts', 'Jackets'): 1, ('Tshirts', 'Track Pants'): 1, ('Watches', 'Track Pants'): 1, ('Shoes', 'Track Pants'): 1, ('Tshirts', 'Suits'): 1, ('Flip Flops', 'Thermals'): 1, ('Jackets', 'Caps'): 1, ('Shorts', 'Sunglasses'): 1, ('Flip Flops', 'Watches'): 1, ('Formal Shoes', 'Sunglasses'): 1, ('Sunglasses', 'Sneakers'): 1, ('Watches', 'Jackets'): 1, ('Shorts', 'Watches'): 1, ('Thermals', 'Caps'): 1, ('Belts', 'Shorts'): 1, ('Deo', 'Suits'): 1, ('Sunglasses', 'Belts'): 1, ('Socks', 'Jeans'): 1, ('Track Pants', 'Caps'): 1, ('Flip Flops', 'Track Pants'): 1, ('Flip Flops', 'Formal Shoes'): 1, ('Sneakers', 'Shoes'): 1, ('Shoes', 'Shoes'): 1, ('Shoes', 'Caps'): 1, ('Tshirts', 'Sneakers'): 1, ('Formal Shoes', 'Track Pants'): 1, ('Sneakers', 'Socks'): 1, ('Caps', 'Caps'): 1, ('Suits', 'Jackets'): 1, ('Tshirts', 'Shoes'): 1, ('Flip Flops', 'Tshirts'): 1, ('Socks', 'Watches'): 1, ('Sneakers', 'Wallets'): 1, ('Sneakers', 'Caps'): 1, ('Wallets', 'Tshirts'): 1, ('Caps', 'Shorts'): 1, ('Caps', 'Formal Shoes'): 1, ('Tshirts', 'Caps'): 1, ('Belts', 'Watches'): 1, ('Shoes', 'Watches'): 1, ('Flip Flops', 'Shoes'): 1, ('Deo', 'Sneakers'): 1, ('Tshirts', 'Wallets'): 1, ('Watches', 'Caps'): 1, ('Suits', 'Thermals'): 1, ('Thermals', 'Tshirts'): 1, ('Shorts', 'Jackets'): 1, ('Watches', 'Flip Flops'): 1, ('Jackets', 'Shorts'): 1, ('Caps', 'Belts'): 1, ('Socks', 'Track Pants'): 1, ('Wallets', 'Sunglasses'): 1, ('Sunglasses', 'Flip Flops'): 1, ('Suits', 'Shorts'): 1, ('Sneakers', 'Thermals'): 1, ('Thermals', 'Jeans'): 1, ('Formal Shoes', 'Deo'): 1, ('Sneakers', 'Flip Flops'): 1, ('Thermals', 'Watches'): 1, ('Thermals', 'Jackets'): 1, ('Jackets', 'Shoes'): 1, ('Socks', 'Sneakers'): 1, ('Deo', 'Flip Flops'): 1, ('Wallets', 'Jackets'): 1, ('Belts', 'Track Pants'): 1, ('Belts', 'Deo'): 1, ('Flip Flops', 'Wallets'): 1, ('Shoes', 'Tshirts'): 1, ('Formal Shoes', 'Suits'): 1, ('Socks', 'Flip Flops'): 1, ('Tshirts', 'Deo'): 1, ('Belts', 'Shoes'): 1, ('Deo', 'Belts'): 1})\n"
     ]
    }
   ],
   "source": [
    "#Count each row combination by the the pairing of the two\n",
    "count = Counter()\n",
    "for row in df2['Group']:\n",
    "    row_list = row.split(',')\n",
    "    count.update(Counter(combinations(row_list,2)))\n",
    "\n",
    "print(count)"
   ]
  },
  {
   "cell_type": "code",
   "execution_count": 12,
   "metadata": {},
   "outputs": [
    {
     "name": "stdout",
     "output_type": "stream",
     "text": [
      "('Product', 'Product') 1128\n",
      "('Suits', 'Shoes') 118\n",
      "('Track Pants', 'Thermals') 113\n",
      "('Track Pants', 'Socks') 66\n",
      "('Suits', 'Socks') 56\n",
      "('Watches', 'Shoes') 53\n",
      "('Track Pants', 'Shorts') 52\n",
      "('Suits', 'Belts') 27\n",
      "('Shoes', 'Socks') 25\n",
      "('Watches', 'Socks') 22\n"
     ]
    }
   ],
   "source": [
    "#check out the most common combination. \n",
    "for key, value in count.most_common(10):\n",
    "    print(key,value)\n"
   ]
  }
 ],
 "metadata": {
  "kernelspec": {
   "display_name": "Python 3",
   "language": "python",
   "name": "python3"
  },
  "language_info": {
   "codemirror_mode": {
    "name": "ipython",
    "version": 3
   },
   "file_extension": ".py",
   "mimetype": "text/x-python",
   "name": "python",
   "nbconvert_exporter": "python",
   "pygments_lexer": "ipython3",
   "version": "3.7.4"
  }
 },
 "nbformat": 4,
 "nbformat_minor": 4
}
